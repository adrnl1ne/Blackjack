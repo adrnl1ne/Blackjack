{
 "cells": [
  {
   "cell_type": "code",
   "execution_count": 43,
   "metadata": {},
   "outputs": [],
   "source": [
    "from itertools import product\n",
    "from random import shuffle\n",
    "\n",
    "# lists the suits and ranks\n",
    "Suits = [\"♠\", \"♥\", \"♣\", \"♦\"]\n",
    "Ranks = [\"A\", \"2\", \"3\", \"4\", \"5\", \"6\", \"7\", \"8\", \"9\", \"10\", \"J\", \"Q\", \"K\"]\n",
    "Values = {\n",
    "    \"A\": 11 or 1,\n",
    "    \"2\": 2,\n",
    "    \"3\": 3,\n",
    "    \"4\": 4,\n",
    "    \"5\": 5,\n",
    "    \"6\": 6,\n",
    "    \"7\": 7,\n",
    "    \"8\": 8,\n",
    "    \"9\": 9,\n",
    "    \"10\": 10,\n",
    "    \"J\": 10,\n",
    "    \"Q\": 10,\n",
    "    \"K\": 10\n",
    "}\n",
    "\n",
    "deck = list(product(Ranks, Suits))  # creates a list of tuples of the cards"
   ]
  },
  {
   "cell_type": "code",
   "execution_count": 44,
   "metadata": {},
   "outputs": [],
   "source": [
    "def shuffler(card):\n",
    "    shuffle(card)  # shuffles the deck\n",
    "    return card\n"
   ]
  },
  {
   "cell_type": "code",
   "execution_count": 45,
   "metadata": {},
   "outputs": [
    {
     "name": "stdout",
     "output_type": "stream",
     "text": [
      "[('K', '♦'), ('K', '♣')]\n"
     ]
    }
   ],
   "source": [
    "def start_hand_player(card):\n",
    "    hand = []\n",
    "    for i in range(2):\n",
    "        hand.append(card.pop())\n",
    "    return hand\n",
    "\n",
    "print(start_hand_player(deck))"
   ]
  },
  {
   "cell_type": "code",
   "execution_count": 46,
   "metadata": {},
   "outputs": [],
   "source": [
    "def start_hand_dealer(card):\n",
    "    hand = []\n",
    "    for i in range(2):\n",
    "        hand.append(card.pop())\n",
    "    return hand\n",
    "\n",
    "\n",
    "# print(card_to_dealer(deck)[1])"
   ]
  },
  {
   "cell_type": "code",
   "execution_count": 47,
   "metadata": {},
   "outputs": [],
   "source": [
    "def points(hand):\n",
    "    total = 0\n",
    "    for i in hand:\n",
    "        total += Values[i[0]]\n",
    "    return total\n",
    "\n",
    "\n",
    "# print(points(card_to_player(deck)))"
   ]
  },
  {
   "cell_type": "code",
   "execution_count": 48,
   "metadata": {},
   "outputs": [],
   "source": [
    "def hit(card):\n",
    "    card.append(deck.pop())\n",
    "    return card"
   ]
  }
 ],
 "metadata": {
  "kernelspec": {
   "display_name": "Python 3",
   "language": "python",
   "name": "python3"
  },
  "language_info": {
   "codemirror_mode": {
    "name": "ipython",
    "version": 3
   },
   "file_extension": ".py",
   "mimetype": "text/x-python",
   "name": "python",
   "nbconvert_exporter": "python",
   "pygments_lexer": "ipython3",
   "version": "3.9.13"
  },
  "orig_nbformat": 4
 },
 "nbformat": 4,
 "nbformat_minor": 2
}
