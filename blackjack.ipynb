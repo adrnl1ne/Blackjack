{
 "cells": [
  {
   "cell_type": "code",
   "execution_count": 8,
   "metadata": {},
   "outputs": [
    {
     "ename": "SyntaxError",
     "evalue": "invalid syntax (969858781.py, line 7)",
     "output_type": "error",
     "traceback": [
      "\u001b[1;36m  Cell \u001b[1;32mIn[8], line 7\u001b[1;36m\u001b[0m\n\u001b[1;33m    list player_hand = []\u001b[0m\n\u001b[1;37m         ^\u001b[0m\n\u001b[1;31mSyntaxError\u001b[0m\u001b[1;31m:\u001b[0m invalid syntax\n"
     ]
    }
   ],
   "source": [
    "from random import shuffle\n",
    "from Model.deck_model import deck\n",
    "from Model.deck_model import Values\n",
    "# Imports\n",
    "\n",
    "# Variables\n",
    "player_hand = []\n",
    "dealer_hand = []\n"
   ]
  },
  {
   "cell_type": "code",
   "execution_count": 2,
   "metadata": {},
   "outputs": [
    {
     "name": "stdout",
     "output_type": "stream",
     "text": [
      "[('A', '♣'), ('J', '♣'), ('9', '♠'), ('10', '♣'), ('5', '♥'), ('2', '♦'), ('K', '♠'), ('5', '♦'), ('6', '♣'), ('4', '♦'), ('K', '♦'), ('3', '♣'), ('8', '♦'), ('8', '♣'), ('Q', '♣'), ('5', '♣'), ('7', '♦'), ('2', '♥'), ('6', '♥'), ('K', '♥'), ('9', '♥'), ('2', '♠'), ('8', '♠'), ('A', '♠'), ('7', '♠'), ('Q', '♦'), ('Q', '♥'), ('Q', '♠'), ('10', '♥'), ('10', '♠'), ('8', '♥'), ('A', '♥'), ('3', '♠'), ('7', '♣'), ('A', '♦'), ('7', '♥'), ('9', '♦'), ('J', '♦'), ('J', '♠'), ('3', '♦'), ('5', '♠'), ('K', '♣'), ('6', '♦'), ('10', '♦'), ('4', '♥'), ('4', '♠'), ('6', '♠'), ('9', '♣'), ('J', '♥'), ('3', '♥'), ('2', '♣'), ('4', '♣')]\n"
     ]
    }
   ],
   "source": [
    "def shuffler(card):\n",
    "    shuffle(card)  # shuffles the deck\n",
    "    return card\n",
    "print(shuffler(deck))"
   ]
  },
  {
   "cell_type": "code",
   "execution_count": 3,
   "metadata": {},
   "outputs": [
    {
     "name": "stdout",
     "output_type": "stream",
     "text": [
      "[('4', '♣'), ('2', '♣')]\n"
     ]
    }
   ],
   "source": [
    "def start_hand_player(card):\n",
    "    hand = []\n",
    "    for i in range(2):\n",
    "        hand.append(card.pop())\n",
    "    return hand\n",
    "    player_hand += hand\n",
    "\n",
    "print(start_hand_player(deck))"
   ]
  },
  {
   "cell_type": "code",
   "execution_count": 4,
   "metadata": {},
   "outputs": [
    {
     "name": "stdout",
     "output_type": "stream",
     "text": [
      "('J', '♥')\n",
      "[]\n"
     ]
    }
   ],
   "source": [
    "def start_hand_dealer(card):\n",
    "    hand = []\n",
    "    for i in range(2):\n",
    "        hand.append(card.pop())\n",
    "    return hand\n",
    "    dealer_hand += hand\n",
    "\n",
    "\n",
    "print(start_hand_dealer(deck)[1])\n",
    "print(dealer_hand)"
   ]
  },
  {
   "cell_type": "code",
   "execution_count": 5,
   "metadata": {},
   "outputs": [],
   "source": [
    "def points(hand):\n",
    "    total = 0\n",
    "    for i in hand:\n",
    "        total += Values[i[0]]\n",
    "    return total"
   ]
  },
  {
   "cell_type": "code",
   "execution_count": 6,
   "metadata": {},
   "outputs": [],
   "source": [
    "def hit(card):\n",
    "    card.append(deck.pop())\n",
    "    return card"
   ]
  },
  {
   "cell_type": "code",
   "execution_count": 7,
   "metadata": {},
   "outputs": [
    {
     "name": "stdout",
     "output_type": "stream",
     "text": [
      "[]\n",
      "0\n"
     ]
    },
    {
     "data": {
      "text/plain": [
       "0"
      ]
     },
     "execution_count": 7,
     "metadata": {},
     "output_type": "execute_result"
    }
   ],
   "source": [
    "shuffler(deck)\n",
    "start_hand_player(deck)\n",
    "print(player_hand)\n",
    "print(points(player_hand))\n",
    "start_hand_dealer(deck)\n",
    "points(dealer_hand)\n",
    "\n",
    "\n",
    "# while loop her\n",
    "\n"
   ]
  }
 ],
 "metadata": {
  "kernelspec": {
   "display_name": "Python 3",
   "language": "python",
   "name": "python3"
  },
  "language_info": {
   "codemirror_mode": {
    "name": "ipython",
    "version": 3
   },
   "file_extension": ".py",
   "mimetype": "text/x-python",
   "name": "python",
   "nbconvert_exporter": "python",
   "pygments_lexer": "ipython3",
   "version": "3.9.13"
  },
  "orig_nbformat": 4
 },
 "nbformat": 4,
 "nbformat_minor": 2
}
