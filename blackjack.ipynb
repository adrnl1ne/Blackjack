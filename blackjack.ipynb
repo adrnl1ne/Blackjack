{
 "cells": [
  {
   "cell_type": "code",
   "execution_count": 2,
   "metadata": {},
   "outputs": [
    {
     "ename": "NameError",
     "evalue": "name 'deck' is not defined",
     "output_type": "error",
     "traceback": [
      "\u001b[1;31m---------------------------------------------------------------------------\u001b[0m",
      "\u001b[1;31mNameError\u001b[0m                                 Traceback (most recent call last)",
      "Cell \u001b[1;32mIn[2], line 25\u001b[0m\n\u001b[0;32m      8\u001b[0m     Values \u001b[39m=\u001b[39m {\n\u001b[0;32m      9\u001b[0m     \u001b[39m\"\u001b[39m\u001b[39mA\u001b[39m\u001b[39m\"\u001b[39m: \u001b[39m11\u001b[39m \u001b[39mor\u001b[39;00m \u001b[39m1\u001b[39m,\n\u001b[0;32m     10\u001b[0m     \u001b[39m\"\u001b[39m\u001b[39m2\u001b[39m\u001b[39m\"\u001b[39m: \u001b[39m2\u001b[39m,\n\u001b[1;32m   (...)\u001b[0m\n\u001b[0;32m     21\u001b[0m     \u001b[39m\"\u001b[39m\u001b[39mK\u001b[39m\u001b[39m\"\u001b[39m: \u001b[39m10\u001b[39m\n\u001b[0;32m     22\u001b[0m }\n\u001b[0;32m     23\u001b[0m     deck \u001b[39m=\u001b[39m \u001b[39mlist\u001b[39m(product(Ranks, Suits))  \u001b[39m# creates a list of tuples of the cards\u001b[39;00m\n\u001b[1;32m---> 25\u001b[0m \u001b[39mprint\u001b[39m(deck)\n",
      "\u001b[1;31mNameError\u001b[0m: name 'deck' is not defined"
     ]
    }
   ],
   "source": [
    "from itertools import product\n",
    "from random import shuffle\n",
    "\n",
    "# lists the suits and ranks\n",
    "def create_deck():\n",
    "    Suits = [\"♠\", \"♥\", \"♣\", \"♦\"]\n",
    "    Ranks = [\"A\", \"2\", \"3\", \"4\", \"5\", \"6\", \"7\", \"8\", \"9\", \"10\", \"J\", \"Q\", \"K\"]\n",
    "    Values = {\n",
    "    \"A\": 11 or 1,\n",
    "    \"2\": 2,\n",
    "    \"3\": 3,\n",
    "    \"4\": 4,\n",
    "    \"5\": 5,\n",
    "    \"6\": 6,\n",
    "    \"7\": 7,\n",
    "    \"8\": 8,\n",
    "    \"9\": 9,\n",
    "    \"10\": 10,\n",
    "    \"J\": 10,\n",
    "    \"Q\": 10,\n",
    "    \"K\": 10\n",
    "}\n",
    "    \n",
    "\n",
    "deck = list(product(Ranks, Suits))  # creates a list of tuples of the cards\n",
    "  \n",
    "print(deck)\n"
   ]
  },
  {
   "cell_type": "code",
   "execution_count": 3,
   "metadata": {},
   "outputs": [
    {
     "name": "stdout",
     "output_type": "stream",
     "text": [
      "[('3', '♠'), ('7', '♦'), ('5', '♣'), ('9', '♠'), ('4', '♣'), ('8', '♦'), ('8', '♣'), ('4', '♥'), ('J', '♣'), ('4', '♦'), ('K', '♦'), ('2', '♠'), ('9', '♣'), ('Q', '♣'), ('10', '♥'), ('6', '♠'), ('K', '♣'), ('8', '♠'), ('10', '♦'), ('Q', '♦'), ('10', '♠'), ('2', '♥'), ('K', '♠'), ('3', '♦'), ('2', '♣'), ('6', '♦'), ('5', '♠'), ('A', '♣'), ('7', '♣'), ('7', '♥'), ('7', '♠'), ('10', '♣'), ('6', '♣'), ('2', '♦'), ('3', '♥'), ('4', '♠'), ('K', '♥'), ('J', '♠'), ('A', '♦'), ('A', '♠'), ('Q', '♠'), ('Q', '♥'), ('8', '♥'), ('6', '♥'), ('9', '♦'), ('J', '♥'), ('J', '♦'), ('5', '♦'), ('9', '♥'), ('5', '♥'), ('3', '♣'), ('A', '♥')]\n"
     ]
    }
   ],
   "source": [
    "def shuffler(card):\n",
    "    shuffle(card)  # shuffles the deck\n",
    "    return card\n",
    "\n",
    "print(shuffler(deck))"
   ]
  },
  {
   "cell_type": "code",
   "execution_count": 4,
   "metadata": {},
   "outputs": [
    {
     "name": "stdout",
     "output_type": "stream",
     "text": [
      "[('A', '♥'), ('3', '♣')]\n"
     ]
    }
   ],
   "source": [
    "def start_hand_player(card):\n",
    "    hand = []\n",
    "    for i in range(2):\n",
    "        hand.append(card.pop())\n",
    "    return hand\n",
    "\n",
    "print(start_hand_player(deck))"
   ]
  },
  {
   "cell_type": "code",
   "execution_count": 5,
   "metadata": {},
   "outputs": [],
   "source": [
    "def start_hand_dealer(card):\n",
    "    hand = []\n",
    "    for i in range(2):\n",
    "        hand.append(card.pop())\n",
    "    return hand\n",
    "\n",
    "\n",
    "print(card_to_dealer(deck)[1])"
   ]
  },
  {
   "cell_type": "code",
   "execution_count": 47,
   "metadata": {},
   "outputs": [],
   "source": [
    "def points(hand):\n",
    "    total = 0\n",
    "    for i in hand:\n",
    "        total += Values[i[0]]\n",
    "    return total\n",
    "\n",
    "\n",
    "print(points(card_to_player(deck)))"
   ]
  },
  {
   "cell_type": "code",
   "execution_count": 48,
   "metadata": {},
   "outputs": [],
   "source": [
    "def hit(card):\n",
    "    card.append(deck.pop())\n",
    "    return card"
   ]
  }
 ],
 "metadata": {
  "kernelspec": {
   "display_name": "Python 3",
   "language": "python",
   "name": "python3"
  },
  "language_info": {
   "codemirror_mode": {
    "name": "ipython",
    "version": 3
   },
   "file_extension": ".py",
   "mimetype": "text/x-python",
   "name": "python",
   "nbconvert_exporter": "python",
   "pygments_lexer": "ipython3",
   "version": "3.9.13"
  },
  "orig_nbformat": 4
 },
 "nbformat": 4,
 "nbformat_minor": 2
}
